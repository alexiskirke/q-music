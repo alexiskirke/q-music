{
 "cells": [
  {
   "cell_type": "code",
   "execution_count": 1,
   "metadata": {
    "scrolled": false
   },
   "outputs": [
    {
     "name": "stdout",
     "output_type": "stream",
     "text": [
      "[0.70738827+0.j 0.70682518+0.j]\n",
      "         ┌──────────────┐\n",
      "q0_0: |0>┤ U3(1.57,0,0) ├\n",
      "         └──────────────┘\n",
      " c0_0: 0 ════════════════\n",
      "                         \n"
     ]
    }
   ],
   "source": [
    "from qiskit import QuantumRegister, ClassicalRegister\n",
    "\n",
    "from qiskit import QuantumCircuit, Aer, execute \n",
    "import numpy as np\n",
    "import math\n",
    "from qiskit.tools.visualization import plot_histogram, plot_state_city\n",
    "from cmath import phase\n",
    "\n",
    "\n",
    "q = QuantumRegister(1)\n",
    "c = ClassicalRegister(1)\n",
    "qc = QuantumCircuit(q, c)\n",
    "\n",
    "qc1=QuantumCircuit(q,c)\n",
    "qc2=QuantumCircuit(q,c)\n",
    "qc3=QuantumCircuit(q,c)\n",
    "\n",
    "\n",
    "qc.u3(1.57,0,0,q[0])\n",
    "\n",
    "backend = Aer.get_backend('statevector_simulator')\n",
    "job = execute(qc, backend)\n",
    "result = job.result()\n",
    "vec1=result.get_statevector(qc)\n",
    "print(vec1)\n",
    "\n",
    "print(qc.draw())\n"
   ]
  },
  {
   "cell_type": "code",
   "execution_count": 2,
   "metadata": {},
   "outputs": [
    {
     "name": "stdout",
     "output_type": "stream",
     "text": [
      "angle_psi: 0.0\n",
      "angle_theta: 1.57\n"
     ]
    }
   ],
   "source": [
    "#return psi, theta of statevector\n",
    "\n",
    "ph10=phase(vec1[0])\n",
    "\n",
    "ph11=phase(vec1[1])\n",
    "\n",
    "angle_psi=ph11-ph10\n",
    "print('angle_psi:',angle_psi)\n",
    "\n",
    "angle_theta=2*phase(complex(abs(vec1[0]),abs(vec1[1])))\n",
    "\n",
    "                  \n",
    "print('angle_theta:',angle_theta)\n"
   ]
  },
  {
   "cell_type": "code",
   "execution_count": 3,
   "metadata": {},
   "outputs": [
    {
     "name": "stdout",
     "output_type": "stream",
     "text": [
      "[0.70738827+0.j         0.49980088+0.49980088j] [0.70738827+0.j 0.70682518+0.j]\n"
     ]
    }
   ],
   "source": [
    "qc1.t(q[0])\n",
    "\n",
    "result2 = execute(qc1, backend, backend_options={\"initial_statevector\": vec1}).result()\n",
    "vec2 = result2.get_statevector(qc1)\n",
    "\n",
    "print(vec2,vec1)\n"
   ]
  },
  {
   "cell_type": "code",
   "execution_count": 4,
   "metadata": {},
   "outputs": [
    {
     "name": "stdout",
     "output_type": "stream",
     "text": [
      "angle_psi_2: 0.7853981633974483\n",
      "angle_theta_2: 1.57\n"
     ]
    }
   ],
   "source": [
    "ph20=phase(vec2[0])\n",
    "\n",
    "ph21=phase(vec2[1])\n",
    "\n",
    "angle_psi=ph21-ph20\n",
    "print('angle_psi_2:',angle_psi)\n",
    "\n",
    "angle_theta=2*phase(complex(abs(vec2[0]),abs(vec2[1])))\n",
    "\n",
    "                  \n",
    "print('angle_theta_2:',angle_theta)\n"
   ]
  },
  {
   "cell_type": "code",
   "execution_count": 5,
   "metadata": {},
   "outputs": [
    {
     "name": "stdout",
     "output_type": "stream",
     "text": [
      "[ 0.70738827+0.j         -0.49980088+0.49980088j] [0.70738827+0.j         0.49980088+0.49980088j] [0.70738827+0.j 0.70682518+0.j]\n"
     ]
    }
   ],
   "source": [
    "qc2.s(q[0])\n",
    "\n",
    "result3= execute(qc2, backend, backend_options={\"initial_statevector\": vec2}).result()\n",
    "vec3 = result3.get_statevector(qc2)\n",
    "\n",
    "print(vec3,vec2,vec1)"
   ]
  },
  {
   "cell_type": "code",
   "execution_count": 6,
   "metadata": {},
   "outputs": [
    {
     "name": "stdout",
     "output_type": "stream",
     "text": [
      "angle_psi_3: 2.356194490192345\n",
      "angle_theta_3: 1.57\n"
     ]
    }
   ],
   "source": [
    "ph30=phase(vec3[0])\n",
    "\n",
    "ph31=phase(vec3[1])\n",
    "\n",
    "angle_psi=ph31-ph30\n",
    "print('angle_psi_3:',angle_psi)\n",
    "\n",
    "angle_theta=2*phase(complex(abs(vec3[0]),abs(vec3[1])))\n",
    "\n",
    "                  \n",
    "print('angle_theta_3:',angle_theta)"
   ]
  },
  {
   "cell_type": "code",
   "execution_count": 7,
   "metadata": {},
   "outputs": [
    {
     "name": "stdout",
     "output_type": "stream",
     "text": [
      "[ 0.70738827+0.j -0.70682518+0.j] [ 0.70738827+0.j         -0.49980088+0.49980088j] [0.70738827+0.j         0.49980088+0.49980088j] [0.70738827+0.j 0.70682518+0.j]\n"
     ]
    }
   ],
   "source": [
    "qc3.t(q[0])\n",
    "\n",
    "result4= execute(qc3, backend, backend_options={\"initial_statevector\": vec3}).result()\n",
    "vec4 = result4.get_statevector(qc3)\n",
    "\n",
    "print(vec4,vec3,vec2,vec1)\n",
    "\n"
   ]
  },
  {
   "cell_type": "code",
   "execution_count": 8,
   "metadata": {},
   "outputs": [
    {
     "name": "stdout",
     "output_type": "stream",
     "text": [
      "angle_psi_4: 3.141592653589793\n",
      "angle_theta_4: 1.57\n"
     ]
    }
   ],
   "source": [
    "\n",
    "angle_psi=phase(vec4[1])-phase(vec4[0])\n",
    "print('angle_psi_4:',angle_psi)\n",
    "\n",
    "angle_theta=2*phase(complex(abs(vec3[0]),abs(vec3[1])))\n",
    "\n",
    "                  \n",
    "print('angle_theta_4:',angle_theta)"
   ]
  },
  {
   "cell_type": "code",
   "execution_count": null,
   "metadata": {},
   "outputs": [],
   "source": []
  }
 ],
 "metadata": {
  "kernelspec": {
   "display_name": "Python 3",
   "language": "python",
   "name": "python3"
  },
  "language_info": {
   "codemirror_mode": {
    "name": "ipython",
    "version": 3
   },
   "file_extension": ".py",
   "mimetype": "text/x-python",
   "name": "python",
   "nbconvert_exporter": "python",
   "pygments_lexer": "ipython3",
   "version": "3.7.1"
  }
 },
 "nbformat": 4,
 "nbformat_minor": 2
}
